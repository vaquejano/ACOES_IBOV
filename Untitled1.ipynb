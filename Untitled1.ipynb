{
  "nbformat": 4,
  "nbformat_minor": 0,
  "metadata": {
    "colab": {
      "provenance": [],
      "authorship_tag": "ABX9TyPuBkNqavDa3+6M4wChbGcm",
      "include_colab_link": true
    },
    "kernelspec": {
      "name": "python3",
      "display_name": "Python 3"
    },
    "language_info": {
      "name": "python"
    }
  },
  "cells": [
    {
      "cell_type": "markdown",
      "metadata": {
        "id": "view-in-github",
        "colab_type": "text"
      },
      "source": [
        "<a href=\"https://colab.research.google.com/github/vaquejano/ACOES_IBOV/blob/main/Untitled1.ipynb\" target=\"_parent\"><img src=\"https://colab.research.google.com/assets/colab-badge.svg\" alt=\"Open In Colab\"/></a>"
      ]
    },
    {
      "cell_type": "code",
      "execution_count": null,
      "metadata": {
        "colab": {
          "base_uri": "https://localhost:8080/",
          "height": 373
        },
        "id": "reh27xgelorI",
        "outputId": "ed1c12cb-5430-4409-d456-ec3c9773eb1d"
      },
      "outputs": [
        {
          "output_type": "error",
          "ename": "ModuleNotFoundError",
          "evalue": "ignored",
          "traceback": [
            "\u001b[0;31m---------------------------------------------------------------------------\u001b[0m",
            "\u001b[0;31mModuleNotFoundError\u001b[0m                       Traceback (most recent call last)",
            "\u001b[0;32m<ipython-input-6-033d7e4f9ef0>\u001b[0m in \u001b[0;36m<module>\u001b[0;34m\u001b[0m\n\u001b[1;32m      6\u001b[0m \u001b[0;31m#!pip install servo\u001b[0m\u001b[0;34m\u001b[0m\u001b[0;34m\u001b[0m\u001b[0;34m\u001b[0m\u001b[0m\n\u001b[1;32m      7\u001b[0m \u001b[0;31m#!pip install PiGPIOFactory\u001b[0m\u001b[0;34m\u001b[0m\u001b[0;34m\u001b[0m\u001b[0;34m\u001b[0m\u001b[0m\n\u001b[0;32m----> 8\u001b[0;31m \u001b[0;32mfrom\u001b[0m \u001b[0mgpiozero\u001b[0m \u001b[0;32mimport\u001b[0m \u001b[0mServo\u001b[0m\u001b[0;34m\u001b[0m\u001b[0;34m\u001b[0m\u001b[0m\n\u001b[0m\u001b[1;32m      9\u001b[0m \u001b[0;32mfrom\u001b[0m \u001b[0mgpiozero\u001b[0m\u001b[0;34m.\u001b[0m\u001b[0mpins\u001b[0m\u001b[0;34m.\u001b[0m\u001b[0mpigpio\u001b[0m \u001b[0;32mimport\u001b[0m \u001b[0mPiGPIOFactory\u001b[0m\u001b[0;34m\u001b[0m\u001b[0;34m\u001b[0m\u001b[0m\n\u001b[1;32m     10\u001b[0m \u001b[0;32mimport\u001b[0m \u001b[0mmath\u001b[0m\u001b[0;34m\u001b[0m\u001b[0;34m\u001b[0m\u001b[0m\n",
            "\u001b[0;31mModuleNotFoundError\u001b[0m: No module named 'gpiozero'",
            "",
            "\u001b[0;31m---------------------------------------------------------------------------\u001b[0;32m\nNOTE: If your import is failing due to a missing package, you can\nmanually install dependencies using either !pip or !apt.\n\nTo view examples of installing some common dependencies, click the\n\"Open Examples\" button below.\n\u001b[0;31m---------------------------------------------------------------------------\u001b[0m\n"
          ],
          "errorDetails": {
            "actions": [
              {
                "action": "open_url",
                "actionText": "Open Examples",
                "url": "/notebooks/snippets/importing_libraries.ipynb"
              }
            ]
          }
        }
      ],
      "source": [
        "#pid robot\n",
        "\n",
        "\n",
        "import cv2\n",
        "import numpy as np\n",
        "#!pip install servo\n",
        "#!pip install PiGPIOFactory\n",
        "from gpiozero import Servo\n",
        "from gpiozero.pins.pigpio import PiGPIOFactory\n",
        "import math\n",
        "import time\n",
        "\n",
        "factory = PiGPIOFactory()\n",
        "H = 13\n",
        "servo = Servo(H, min_pulse_width=0.5/1000, max_pulse_width=2.5/1000, pin_factory=factory)\n",
        "angle = 0\n",
        "servo.value = math.sin(math.radians(angle))\n",
        "\n",
        "previous_error = 0\n",
        "I_error = 0\n",
        "KP = 0.05\n",
        "KI = 0.01\n",
        "KD = 0.002\n",
        "\n",
        "cap = cv2.VideoCapture(0)\n",
        "cap.set(cv2.CAP_PROP_FRAME_WIDTH,  480)\n",
        "cap.set(cv2.CAP_PROP_FRAME_HEIGHT, 320)\n",
        "\n",
        "x_medium = int(480/2)\n",
        "center = int(480/2)\n",
        "\n",
        "while True:\n",
        "    _, frame = cap.read()\n",
        "    frame = cv2.rotate(frame, cv2.ROTATE_180)\n",
        "    hsv_frame = cv2.cvtColor(frame, cv2.COLOR_BGR2HSV)\n",
        "    low_red = np.array([169, 50, 50])\n",
        "    high_red = np.array([179, 255, 255])\n",
        "    red_mask = cv2.inRange(hsv_frame, low_red, high_red)\n",
        "    contours, _ = cv2.findContours(red_mask, cv2.RETR_TREE, cv2.CHAIN_APPROX_SIMPLE)\n",
        "    contours = sorted(contours, key=lambda x:cv2.contourArea(x), reverse=True)\n",
        "    for cnt in contours:\n",
        "        (x, y, w, h) = cv2.boundingRect(cnt)\n",
        "        x_medium = int((x+(x+w))/2)\n",
        "        break\n",
        "    cv2.rectangle(frame, (x, y), (x+w, y+h), (255, 0, 0), 2)\n",
        "    cv2.line(frame, (x_medium, 0), (x_medium, 320), (0, 255, 0), 2)\n",
        "    cv2.imshow(\"Frame\", frame)\n",
        "    if abs(center - x_medium) > 50:\n",
        "        error = center - x_medium\n",
        "        I_error += error\n",
        "        D_error = error - previous_error\n",
        "        previour_error = error\n",
        "        angle = (KP*error + KI*I_error + KD*D_error) \n",
        "        if angle > 90:\n",
        "            angle = 90\n",
        "        if angle < -90:\n",
        "            angle = -90\n",
        "        servo.value = math.sin(math.radians(angle))\n",
        "    key = cv2.waitKey(1)\n",
        "    if key == 27:\n",
        "        break\n",
        "\n",
        "angle = 0\n",
        "servo.value = math.sin(math.radians(angle))\n",
        "cap.release()\n",
        "cv2.destroyAllWindows()"
      ]
    },
    {
      "cell_type": "code",
      "source": [
        "import sys\n",
        "import cv2 as cv\n",
        "import numpy as np\n",
        "def main(argv):\n",
        "    \n",
        "    default_file = 'smarties.png'\n",
        "    filename = argv[0] if len(argv) > 0 else default_file\n",
        "    # Loads an image\n",
        "    src = cv.imread(cv.samples.findFile(filename), cv.IMREAD_COLOR)\n",
        "    # Check if image is loaded fine\n",
        "    if src is None:\n",
        "        print ('Error opening image!')\n",
        "        print ('Usage: hough_circle.py [image_name -- default ' + default_file + '] \\n')\n",
        "        return -1\n",
        "    \n",
        "    \n",
        "    gray = cv.cvtColor(src, cv.COLOR_BGR2GRAY)\n",
        "    \n",
        "    \n",
        "    gray = cv.medianBlur(gray, 5)\n",
        "    \n",
        "    \n",
        "    rows = gray.shape[0]\n",
        "    circles = cv.HoughCircles(gray, cv.HOUGH_GRADIENT, 1, rows / 8,\n",
        "                               param1=100, param2=30,\n",
        "                               minRadius=1, maxRadius=30)\n",
        "    \n",
        "    \n",
        "    if circles is not None:\n",
        "        circles = np.uint16(np.around(circles))\n",
        "        for i in circles[0, :]:\n",
        "            center = (i[0], i[1])\n",
        "            # circle center\n",
        "            cv.circle(src, center, 1, (0, 100, 100), 3)\n",
        "            # circle outline\n",
        "            radius = i[2]\n",
        "            cv.circle(src, center, radius, (255, 0, 255), 3)\n",
        "    \n",
        "    \n",
        "    cv.imshow(\"detected circles\", src)\n",
        "    cv.waitKey(0)\n",
        "    \n",
        "    return 0\n",
        "if __name__ == \"__main__\":\n",
        "    main(sys.argv[1:])\n"
      ],
      "metadata": {
        "colab": {
          "base_uri": "https://localhost:8080/",
          "height": 321
        },
        "id": "gcno8WPuv3cU",
        "outputId": "8193e38a-1c30-4660-f93c-e6a02aca42ab"
      },
      "execution_count": null,
      "outputs": [
        {
          "output_type": "error",
          "ename": "error",
          "evalue": "ignored",
          "traceback": [
            "\u001b[0;31m---------------------------------------------------------------------------\u001b[0m",
            "\u001b[0;31merror\u001b[0m                                     Traceback (most recent call last)",
            "\u001b[0;32m<ipython-input-9-0f374995a5ab>\u001b[0m in \u001b[0;36m<module>\u001b[0;34m\u001b[0m\n\u001b[1;32m     43\u001b[0m     \u001b[0;32mreturn\u001b[0m \u001b[0;36m0\u001b[0m\u001b[0;34m\u001b[0m\u001b[0;34m\u001b[0m\u001b[0m\n\u001b[1;32m     44\u001b[0m \u001b[0;32mif\u001b[0m \u001b[0m__name__\u001b[0m \u001b[0;34m==\u001b[0m \u001b[0;34m\"__main__\"\u001b[0m\u001b[0;34m:\u001b[0m\u001b[0;34m\u001b[0m\u001b[0;34m\u001b[0m\u001b[0m\n\u001b[0;32m---> 45\u001b[0;31m     \u001b[0mmain\u001b[0m\u001b[0;34m(\u001b[0m\u001b[0msys\u001b[0m\u001b[0;34m.\u001b[0m\u001b[0margv\u001b[0m\u001b[0;34m[\u001b[0m\u001b[0;36m1\u001b[0m\u001b[0;34m:\u001b[0m\u001b[0;34m]\u001b[0m\u001b[0;34m)\u001b[0m\u001b[0;34m\u001b[0m\u001b[0;34m\u001b[0m\u001b[0m\n\u001b[0m",
            "\u001b[0;32m<ipython-input-9-0f374995a5ab>\u001b[0m in \u001b[0;36mmain\u001b[0;34m(argv)\u001b[0m\n\u001b[1;32m      7\u001b[0m     \u001b[0mfilename\u001b[0m \u001b[0;34m=\u001b[0m \u001b[0margv\u001b[0m\u001b[0;34m[\u001b[0m\u001b[0;36m0\u001b[0m\u001b[0;34m]\u001b[0m \u001b[0;32mif\u001b[0m \u001b[0mlen\u001b[0m\u001b[0;34m(\u001b[0m\u001b[0margv\u001b[0m\u001b[0;34m)\u001b[0m \u001b[0;34m>\u001b[0m \u001b[0;36m0\u001b[0m \u001b[0;32melse\u001b[0m \u001b[0mdefault_file\u001b[0m\u001b[0;34m\u001b[0m\u001b[0;34m\u001b[0m\u001b[0m\n\u001b[1;32m      8\u001b[0m     \u001b[0;31m# Loads an image\u001b[0m\u001b[0;34m\u001b[0m\u001b[0;34m\u001b[0m\u001b[0;34m\u001b[0m\u001b[0m\n\u001b[0;32m----> 9\u001b[0;31m     \u001b[0msrc\u001b[0m \u001b[0;34m=\u001b[0m \u001b[0mcv\u001b[0m\u001b[0;34m.\u001b[0m\u001b[0mimread\u001b[0m\u001b[0;34m(\u001b[0m\u001b[0mcv\u001b[0m\u001b[0;34m.\u001b[0m\u001b[0msamples\u001b[0m\u001b[0;34m.\u001b[0m\u001b[0mfindFile\u001b[0m\u001b[0;34m(\u001b[0m\u001b[0mfilename\u001b[0m\u001b[0;34m)\u001b[0m\u001b[0;34m,\u001b[0m \u001b[0mcv\u001b[0m\u001b[0;34m.\u001b[0m\u001b[0mIMREAD_COLOR\u001b[0m\u001b[0;34m)\u001b[0m\u001b[0;34m\u001b[0m\u001b[0;34m\u001b[0m\u001b[0m\n\u001b[0m\u001b[1;32m     10\u001b[0m     \u001b[0;31m# Check if image is loaded fine\u001b[0m\u001b[0;34m\u001b[0m\u001b[0;34m\u001b[0m\u001b[0;34m\u001b[0m\u001b[0m\n\u001b[1;32m     11\u001b[0m     \u001b[0;32mif\u001b[0m \u001b[0msrc\u001b[0m \u001b[0;32mis\u001b[0m \u001b[0;32mNone\u001b[0m\u001b[0;34m:\u001b[0m\u001b[0;34m\u001b[0m\u001b[0;34m\u001b[0m\u001b[0m\n",
            "\u001b[0;31merror\u001b[0m: OpenCV(4.6.0) /io/opencv/modules/core/src/utils/samples.cpp:64: error: (-2:Unspecified error) OpenCV samples: Can't find required data file: -f in function 'findFile'\n"
          ]
        }
      ]
    },
    {
      "cell_type": "code",
      "source": [],
      "metadata": {
        "id": "ul9nx1jcnjtz"
      },
      "execution_count": null,
      "outputs": []
    },
    {
      "cell_type": "code",
      "source": [],
      "metadata": {
        "id": "SDJS7p1snQqM"
      },
      "execution_count": null,
      "outputs": []
    },
    {
      "cell_type": "code",
      "source": [],
      "metadata": {
        "id": "ODl0MLiLm8LT"
      },
      "execution_count": null,
      "outputs": []
    },
    {
      "cell_type": "code",
      "source": [],
      "metadata": {
        "id": "UEXNLFeemwWG"
      },
      "execution_count": null,
      "outputs": []
    },
    {
      "cell_type": "code",
      "execution_count": null,
      "metadata": {
        "id": "2tOSDE7kmqRB"
      },
      "outputs": [],
      "source": [
        "!pip install cartopy\n",
        "import cartopy"
      ]
    },
    {
      "cell_type": "code",
      "execution_count": null,
      "metadata": {
        "id": "zuHGoNw2mq3X"
      },
      "outputs": [],
      "source": [
        "!pip install cartopy\n",
        "import cartopy"
      ]
    },
    {
      "cell_type": "code",
      "execution_count": null,
      "metadata": {
        "id": "Zq68DSY2rP2W"
      },
      "outputs": [],
      "source": [
        "!pip install cartopy\n",
        "import cartopy"
      ]
    }
  ]
}